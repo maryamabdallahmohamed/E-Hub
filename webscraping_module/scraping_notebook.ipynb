{
 "cells": [
  {
   "cell_type": "markdown",
   "id": "585d6319",
   "metadata": {},
   "source": [
    "### Web scraping module"
   ]
  },
  {
   "cell_type": "code",
   "execution_count": 1,
   "id": "2c2b0595",
   "metadata": {},
   "outputs": [
    {
     "name": "stdout",
     "output_type": "stream",
     "text": [
      "Defaulting to user installation because normal site-packages is not writeable\n",
      "Requirement already satisfied: requests in /Users/maryamsaad/Library/Python/3.9/lib/python/site-packages (2.32.3)\n",
      "Collecting bs4\n",
      "  Downloading bs4-0.0.2-py2.py3-none-any.whl.metadata (411 bytes)\n",
      "Requirement already satisfied: charset-normalizer<4,>=2 in /Users/maryamsaad/Library/Python/3.9/lib/python/site-packages (from requests) (3.4.1)\n",
      "Requirement already satisfied: idna<4,>=2.5 in /Users/maryamsaad/Library/Python/3.9/lib/python/site-packages (from requests) (3.10)\n",
      "Requirement already satisfied: urllib3<3,>=1.21.1 in /Users/maryamsaad/Library/Python/3.9/lib/python/site-packages (from requests) (1.26.20)\n",
      "Requirement already satisfied: certifi>=2017.4.17 in /Users/maryamsaad/Library/Python/3.9/lib/python/site-packages (from requests) (2025.1.31)\n",
      "Requirement already satisfied: beautifulsoup4 in /Users/maryamsaad/Library/Python/3.9/lib/python/site-packages (from bs4) (4.13.3)\n",
      "Requirement already satisfied: soupsieve>1.2 in /Users/maryamsaad/Library/Python/3.9/lib/python/site-packages (from beautifulsoup4->bs4) (2.6)\n",
      "Requirement already satisfied: typing-extensions>=4.0.0 in /Users/maryamsaad/Library/Python/3.9/lib/python/site-packages (from beautifulsoup4->bs4) (4.12.2)\n",
      "Downloading bs4-0.0.2-py2.py3-none-any.whl (1.2 kB)\n",
      "Installing collected packages: bs4\n",
      "Successfully installed bs4-0.0.2\n",
      "\n",
      "\u001b[1m[\u001b[0m\u001b[34;49mnotice\u001b[0m\u001b[1;39;49m]\u001b[0m\u001b[39;49m A new release of pip is available: \u001b[0m\u001b[31;49m25.0.1\u001b[0m\u001b[39;49m -> \u001b[0m\u001b[32;49m25.2\u001b[0m\n",
      "\u001b[1m[\u001b[0m\u001b[34;49mnotice\u001b[0m\u001b[1;39;49m]\u001b[0m\u001b[39;49m To update, run: \u001b[0m\u001b[32;49m/Library/Developer/CommandLineTools/usr/bin/python3 -m pip install --upgrade pip\u001b[0m\n"
     ]
    }
   ],
   "source": [
    "!pip3 install requests bs4"
   ]
  },
  {
   "cell_type": "code",
   "execution_count": null,
   "id": "fc1de0c4",
   "metadata": {},
   "outputs": [],
   "source": [
    "import requests\n",
    "from bs4 import BeautifulSoup\n",
    "import json\n",
    "from datetime import datetime\n",
    "import re\n",
    "import os\n",
    "\n",
    "def scrape_and_save_json(url,  output_dir=\"knowledge_base\"):\n",
    "    \"\"\"\n",
    "    Scrapes a webpage, extracts content, and saves as a JSON knowledge base file.\n",
    "    Each website will have its own JSON file.\n",
    "    \"\"\"\n",
    "\n",
    "    os.makedirs(output_dir, exist_ok=True)\n",
    "\n",
    "    try:\n",
    "        response = requests.get(url, headers={\"User-Agent\": \"Mozilla/5.0\"}, timeout=10)\n",
    "\n",
    "        if response.status_code != 200:\n",
    "            print(f\"❌ Failed to fetch {url}, status {response.status_code}\")\n",
    "            return\n",
    "\n",
    "        soup = BeautifulSoup(response.text, \"html.parser\")\n",
    "\n",
    "        # Extract metadata\n",
    "        title = soup.title.string.strip() if soup.title else \"PLACEHOLDER_TITLE\"\n",
    "\n",
    "        # Try author from meta\n",
    "        author = None\n",
    "        author_meta = soup.find(\"meta\", {\"name\": \"author\"})\n",
    "        if author_meta and author_meta.get(\"content\"):\n",
    "            author = author_meta[\"content\"].strip()\n",
    "        else:\n",
    "            author = \"PLACEHOLDER_AUTHOR\"\n",
    "\n",
    "        # Try publish date\n",
    "        date_meta = soup.find(\"meta\", {\"property\": \"article:published_time\"}) or \\\n",
    "                    soup.find(\"meta\", {\"name\": \"date\"})\n",
    "        date_published = date_meta[\"content\"] if date_meta and date_meta.get(\"content\") else \"PLACEHOLDER_DATE\"\n",
    "\n",
    "        # Try category from URL path\n",
    "        category_match = re.search(r\"/category/([^/]+)/\", url)\n",
    "        category = category_match.group(1) if category_match else \"PLACEHOLDER_CATEGORY\"\n",
    "\n",
    "        # Extract text\n",
    "        paragraphs = [p.get_text(strip=True) for p in soup.find_all(\"p\")]\n",
    "        content = \"\\n\".join(paragraphs) if paragraphs else \"PLACEHOLDER_CONTENT\"\n",
    "        website_name =re.sub(r\"https?://(www\\.)?\", \"\", url).split(\"/\")[0].replace(\"-\", \" \").title()\n",
    "        # Build JSON structure\n",
    "        kb_entry = {\n",
    "            \"website\": {\n",
    "                \"name\": website_name,\n",
    "                \"url\": re.match(r\"https?://[^/]+\", url).group(0)\n",
    "            },\n",
    "            \"documents\": [\n",
    "                {\n",
    "                    \"id\": \"doc_001\",\n",
    "                    \"url\": url,\n",
    "                    \"content\": content,\n",
    "                    \"chunks\": [\n",
    "                        {\n",
    "                            \"chunk_id\": \"chunk_001\",\n",
    "                            \"text\": content,\n",
    "                            \"embedding\": [0.0, 0.0, 0.0],\n",
    "                            \"metadata\": {\n",
    "                                \"title\": title,\n",
    "                                \"author\": author,\n",
    "                                \"date_published\": date_published,\n",
    "                                \"date_collected\": datetime.now().strftime(\"%Y-%m-%d\"),\n",
    "                                \"category\": category,\n",
    "                                \"source\": url\n",
    "                            }\n",
    "                        }\n",
    "                    ]\n",
    "                }\n",
    "            ]\n",
    "        }\n",
    "\n",
    "        # Save to JSON\n",
    "        filename = os.path.join(output_dir, f\"{website_name.lower().replace(' ', '_')}.json\")\n",
    "        with open(filename, \"w\", encoding=\"utf-8\") as f:\n",
    "            json.dump(kb_entry, f, ensure_ascii=False, indent=4)\n",
    "\n",
    "        print(f\"✅ Saved JSON knowledge base for {website_name} → {filename}\")\n",
    "\n",
    "    except requests.exceptions.RequestException as e:\n",
    "        print(f\"⚠️ Error fetching {url}: {e}\")\n"
   ]
  },
  {
   "cell_type": "code",
   "execution_count": 20,
   "id": "381581d4",
   "metadata": {},
   "outputs": [
    {
     "name": "stdout",
     "output_type": "stream",
     "text": [
      "✅ Saved JSON knowledge base for Efsa.Europa.Eu → knowledge_base/efsa.europa.eu.json\n"
     ]
    }
   ],
   "source": [
    "scrape_and_save_json(\"https://www.efsa.europa.eu/en/efsajournal/pub/2980\")"
   ]
  },
  {
   "cell_type": "code",
   "execution_count": null,
   "id": "1b67ec3c",
   "metadata": {},
   "outputs": [],
   "source": []
  }
 ],
 "metadata": {
  "kernelspec": {
   "display_name": "Python 3",
   "language": "python",
   "name": "python3"
  },
  "language_info": {
   "codemirror_mode": {
    "name": "ipython",
    "version": 3
   },
   "file_extension": ".py",
   "mimetype": "text/x-python",
   "name": "python",
   "nbconvert_exporter": "python",
   "pygments_lexer": "ipython3",
   "version": "3.9.6"
  }
 },
 "nbformat": 4,
 "nbformat_minor": 5
}
